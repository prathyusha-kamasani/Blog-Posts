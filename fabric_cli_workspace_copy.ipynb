{
 "cells": [
  {
   "cell_type": "markdown",
   "id": "d0aec100",
   "metadata": {},
   "source": [
    "## Step 1: Authenticate Fabric CLI Inside a Notebook\n",
    "This section sets up authentication so you can use `fab` commands inside a notebook — no separate login required."
   ]
  },
  {
   "cell_type": "code",
   "execution_count": null,
   "id": "e32bb5b3",
   "metadata": {},
   "outputs": [],
   "source": [
    "# %pip install ms-fabric-cli --quiet\n",
    "\n",
    "import os\n",
    "import notebookutils\n",
    "\n",
    "token = notebookutils.credentials.getToken('pbi')\n",
    "os.environ['FAB_TOKEN'] = token\n",
    "os.environ['FAB_TOKEN_ONELAKE'] = token\n",
    "\n",
    "print(\"Authentication tokens set for fab CLI\")"
   ]
  },
  {
   "cell_type": "markdown",
   "id": "645708d8",
   "metadata": {},
   "source": [
    "## Step 2: Define Workspaces and Folders\n",
    "We define the workspace and folder names to use throughout the script."
   ]
  },
  {
   "cell_type": "code",
   "execution_count": null,
   "id": "b1263ab4",
   "metadata": {},
   "outputs": [],
   "source": [
    "source_workspace_id = \"41706d46-7c89-45c1-b56f-74aca7d99000\"\n",
    "target_workspace_id = \"bf4c8872-f858-4359-8221-df042403c3f8\"\n",
    "\n",
    "source_folder_name = \"Linkedin\"\n",
    "target_folder_name = \"Linkedintest\"\n",
    "\n",
    "import sempy.fabric as fabric\n",
    "source_workspace_name = fabric.resolve_workspace_name(source_workspace_id)\n",
    "target_workspace_name = fabric.resolve_workspace_name(target_workspace_id)\n",
    "\n",
    "print(\"Source workspace name:\", source_workspace_name)\n",
    "print(\"Target workspace name:\", target_workspace_name)"
   ]
  },
  {
   "cell_type": "markdown",
   "id": "d829038d",
   "metadata": {},
   "source": [
    "## Step 3: Get (or Create) Folder IDs\n",
    "To work with folders, we need their internal IDs. This function fetches the ID for a given name — or creates the folder if it doesn't exist."
   ]
  },
  {
   "cell_type": "code",
   "execution_count": null,
   "id": "85471363",
   "metadata": {},
   "outputs": [],
   "source": [
    "import json\n",
    "import subprocess\n",
    "\n",
    "def get_folder_id(workspace_id, folder_name):\n",
    "    cmd = f\"fab api -X get workspaces/{workspace_id}/folders\"\n",
    "    result = subprocess.run(cmd, shell=True, capture_output=True, text=True)\n",
    "    data = json.loads(result.stdout)\n",
    "    text = data.get(\"text\")\n",
    "    folders_json = json.loads(text) if isinstance(text, str) else text\n",
    "    folders = folders_json.get(\"value\", [])\n",
    "    for f in folders:\n",
    "        if f.get(\"displayName\") == folder_name:\n",
    "            return f.get(\"id\")\n",
    "    return None\n",
    "\n",
    "source_folder_id = get_folder_id(source_workspace_id, source_folder_name)\n",
    "if not source_folder_id:\n",
    "    raise Exception(f\"Source folder '{source_folder_name}' not found\")\n",
    "\n",
    "target_folder_id = get_folder_id(target_workspace_id, target_folder_name)\n",
    "if not target_folder_id:\n",
    "    payload = json.dumps({\"displayName\": target_folder_name})\n",
    "    cmd_create = f\"fab api -X post workspaces/{target_workspace_id}/folders -i '{payload}'\"\n",
    "    result_create = subprocess.run(cmd_create, shell=True, capture_output=True, text=True)\n",
    "    resp = json.loads(result_create.stdout)\n",
    "    target_folder_id = resp.get(\"text\", {}).get(\"id\")\n",
    "    if not target_folder_id:\n",
    "        raise Exception(f\"Failed to create target folder '{target_folder_name}'\")\n",
    "    print(f\"Created target folder '{target_folder_name}' with ID: {target_folder_id}\")\n",
    "else:\n",
    "    print(f\"Target folder '{target_folder_name}' found with ID: {target_folder_id}\")\n",
    "\n",
    "print(f\"Source folder ID: {source_folder_id}\")\n",
    "print(f\"Target folder ID: {target_folder_id}\")"
   ]
  },
  {
   "cell_type": "markdown",
   "id": "d2cc241a",
   "metadata": {},
   "source": [
    "## Step 4: List Items in Source Folder\n",
    "Here we retrieve all the items inside the source folder so we know what to work with."
   ]
  },
  {
   "cell_type": "code",
   "execution_count": null,
   "id": "e2f77be4",
   "metadata": {},
   "outputs": [],
   "source": [
    "cmd_items = f'fab api -X get \"workspaces/{source_workspace_id}/items?folderId={source_folder_id}\"'\n",
    "result_items = subprocess.run(cmd_items, shell=True, capture_output=True, text=True)\n",
    "items_data = json.loads(result_items.stdout)\n",
    "text_items = items_data.get(\"text\")\n",
    "inner_items = json.loads(text_items) if isinstance(text_items, str) else text_items\n",
    "items = inner_items.get(\"value\", [])\n",
    "\n",
    "filtered_items = [item for item in items if item.get(\"folderId\") == source_folder_id]\n",
    "print(f\"Found {len(filtered_items)} items in source folder\")"
   ]
  },
  {
   "cell_type": "markdown",
   "id": "4278ef0f",
   "metadata": {},
   "source": [
    "## Step 5: Check Before You Copy\n",
    "This utility function helps prevent duplicates by checking if an item already exists in the target workspace."
   ]
  },
  {
   "cell_type": "code",
   "execution_count": null,
   "id": "f2a78759",
   "metadata": {},
   "outputs": [],
   "source": [
    "def check_item_exists(path):\n",
    "    escaped_path = path.replace(\" \", \"\\\\ \")\n",
    "    cmd = f'fab exists \"{escaped_path}\"'\n",
    "    result = subprocess.run(cmd, shell=True, capture_output=True, text=True)\n",
    "    stdout = result.stdout.strip().lower()\n",
    "    return \"* true\" in stdout"
   ]
  },
  {
   "cell_type": "markdown",
   "id": "a59ae787",
   "metadata": {},
   "source": [
    "## Step 6: Copy and Patch\n",
    "This part does the heavy lifting — copying the item and assigning it to the correct folder in the destination workspace."
   ]
  },
  {
   "cell_type": "code",
   "execution_count": null,
   "id": "7f9d0874",
   "metadata": {},
   "outputs": [],
   "source": [
    "for item in filtered_items:\n",
    "    item_name = item.get(\"displayName\")\n",
    "    item_type = item.get(\"type\")\n",
    "\n",
    "    src_path_raw = f\"{source_workspace_name}.Workspace/{item_name}.{item_type}\"\n",
    "    tgt_path_raw = f\"{target_workspace_name}.Workspace/{item_name}.{item_type}\"\n",
    "\n",
    "    if check_item_exists(tgt_path_raw):\n",
    "        print(f\"Skipped (exists in target): {item_name}\")\n",
    "        continue\n",
    "\n",
    "    if not check_item_exists(src_path_raw):\n",
    "        print(f\"Skipped (missing in source): {item_name}\")\n",
    "        continue\n",
    "\n",
    "    cmd_copy = f'fab cp \"{src_path_raw}\" \"{tgt_path_raw}\"'\n",
    "    proc = subprocess.Popen(\n",
    "        cmd_copy,\n",
    "        shell=True,\n",
    "        stdin=subprocess.PIPE,\n",
    "        stdout=subprocess.PIPE,\n",
    "        stderr=subprocess.PIPE,\n",
    "        text=True\n",
    "    )\n",
    "    stdout, stderr = proc.communicate(input=\"Yes\\n\")\n",
    "\n",
    "    if proc.returncode != 0:\n",
    "        print(f\"Copy failed: {item_name} ({stderr.strip()})\")\n",
    "        continue\n",
    "\n",
    "    get_items_cmd = f'fab api -X get \"workspaces/{target_workspace_id}/items?filter=displayName eq \\'{item_name}\\'\"'\n",
    "    get_result = subprocess.run(get_items_cmd, shell=True, capture_output=True, text=True)\n",
    "    get_json = json.loads(get_result.stdout)\n",
    "    items_list = get_json.get(\"text\", {}).get(\"value\", [])\n",
    "\n",
    "    if not items_list:\n",
    "        print(f\"Item not found after copy: {item_name}\")\n",
    "        continue\n",
    "\n",
    "    copied_item_id = items_list[0][\"id\"]\n",
    "    patch_body = json.dumps({\"parentFolderId\": target_folder_id})\n",
    "    patch_cmd = f'fab api -X patch workspaces/{target_workspace_id}/items/{copied_item_id} -i \\'{patch_body}\\''\n",
    "    patch_result = subprocess.run(patch_cmd, shell=True, capture_output=True, text=True)\n",
    "\n",
    "    if patch_result.returncode == 0:\n",
    "        print(f\"Moved '{item_name}' to folder '{target_folder_name}'\")\n",
    "    else:\n",
    "        print(f\"Failed to move '{item_name}' to folder\")"
   ]
  }
 ],
 "metadata": {},
 "nbformat": 4,
 "nbformat_minor": 5
}
